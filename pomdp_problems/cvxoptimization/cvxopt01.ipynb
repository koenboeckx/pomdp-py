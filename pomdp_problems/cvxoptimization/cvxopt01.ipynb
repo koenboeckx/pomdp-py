{
 "cells": [
  {
   "cell_type": "markdown",
   "metadata": {},
   "source": [
    "#### From https://cvxopt.org/examples/tutorial/lp.html#solving-a-linear-program\n",
    "# Solving a linear program"
   ]
  },
  {
   "cell_type": "code",
   "execution_count": 25,
   "metadata": {},
   "outputs": [],
   "source": [
    "from cvxopt import matrix, solvers"
   ]
  },
  {
   "cell_type": "code",
   "execution_count": 29,
   "metadata": {},
   "outputs": [],
   "source": [
    "# A x <= b\n",
    "A = matrix([ [-1.0, -1.0, 0.0, 1.0], [1.0, -1.0, -1.0, -2.0] ])\n",
    "b = matrix([ 1.0, -2.0, 0.0, 4.0 ])\n",
    "\n",
    "c = matrix([ 2.0, 1.0 ]) # c.T @ x"
   ]
  },
  {
   "cell_type": "code",
   "execution_count": 31,
   "metadata": {},
   "outputs": [],
   "source": [
    "sol=solvers.lp(c,A,b)"
   ]
  },
  {
   "cell_type": "code",
   "execution_count": 43,
   "metadata": {},
   "outputs": [
    {
     "name": "stdout",
     "output_type": "stream",
     "text": [
      "[ 5.00e-01]\n",
      "[ 1.50e+00]\n",
      "\n"
     ]
    }
   ],
   "source": [
    "print(sol['x'])"
   ]
  },
  {
   "cell_type": "code",
   "execution_count": 38,
   "metadata": {},
   "outputs": [
    {
     "name": "stdout",
     "output_type": "stream",
     "text": [
      "['H', 'T', 'ctrans', 'fromfile', 'imag', 'real', 'size', 'tofile', 'trans', 'typecode']\n"
     ]
    }
   ],
   "source": [
    "print([x for x in dir(sol['x']) if not x.startswith('_')])"
   ]
  },
  {
   "cell_type": "code",
   "execution_count": 42,
   "metadata": {},
   "outputs": [
    {
     "data": {
      "text/plain": [
       "<2x1 matrix, tc='d'>"
      ]
     },
     "execution_count": 42,
     "metadata": {},
     "output_type": "execute_result"
    }
   ],
   "source": [
    "sol['x']"
   ]
  },
  {
   "cell_type": "markdown",
   "metadata": {},
   "source": [
    "## Solving a quadratic program"
   ]
  },
  {
   "cell_type": "code",
   "execution_count": 44,
   "metadata": {},
   "outputs": [],
   "source": [
    "from cvxopt import matrix, solvers\n",
    "Q = 2*matrix([ [2, .5], [.5, 1] ])\n",
    "p = matrix([1.0, 1.0])\n",
    "G = matrix([[-1.0,0.0],[0.0,-1.0]])\n",
    "h = matrix([0.0,0.0])\n",
    "A = matrix([1.0, 1.0], (1,2))\n",
    "b = matrix(1.0)\n",
    "sol=solvers.qp(Q, p, G, h, A, b)"
   ]
  },
  {
   "cell_type": "code",
   "execution_count": 47,
   "metadata": {},
   "outputs": [
    {
     "data": {
      "text/plain": [
       "{'x': <2x1 matrix, tc='d'>,\n",
       " 'y': <1x1 matrix, tc='d'>,\n",
       " 's': <2x1 matrix, tc='d'>,\n",
       " 'z': <2x1 matrix, tc='d'>,\n",
       " 'status': 'optimal',\n",
       " 'gap': 1.052702838051502e-07,\n",
       " 'relative gap': 5.614415451491214e-08,\n",
       " 'primal objective': 1.875000000000018,\n",
       " 'dual objective': 1.8749998947297342,\n",
       " 'primal infeasibility': 1.1102230246251565e-16,\n",
       " 'dual infeasibility': 5.3147592893303475e-08,\n",
       " 'primal slack': 0.2500000952702475,\n",
       " 'dual slack': 1.0000000000000038e-08,\n",
       " 'iterations': 4}"
      ]
     },
     "execution_count": 47,
     "metadata": {},
     "output_type": "execute_result"
    }
   ],
   "source": [
    "sol"
   ]
  },
  {
   "cell_type": "code",
   "execution_count": 46,
   "metadata": {},
   "outputs": [
    {
     "name": "stdout",
     "output_type": "stream",
     "text": [
      "[ 2.50e-01]\n",
      "[ 7.50e-01]\n",
      "\n"
     ]
    }
   ],
   "source": [
    "print(sol['x'])"
   ]
  },
  {
   "cell_type": "markdown",
   "metadata": {},
   "source": [
    "## From https://cvxopt.org/examples/book/rls.html\n",
    "## Figure 4.11, page 185.\n",
    "# Regularized least-squares."
   ]
  },
  {
   "cell_type": "code",
   "execution_count": 4,
   "metadata": {},
   "outputs": [],
   "source": [
    "\n",
    "from pickle import load\n",
    "from cvxopt import blas, lapack, matrix, solvers\n",
    "solvers.options['show_progress'] = 0"
   ]
  },
  {
   "cell_type": "code",
   "execution_count": 14,
   "metadata": {},
   "outputs": [
    {
     "name": "stdout",
     "output_type": "stream",
     "text": [
      "100 10\n"
     ]
    }
   ],
   "source": [
    "data = load(open(\"rls.bin\",'rb'))\n",
    "A, b = data['A'], data['b'] # A = 100x10 (cvxopt.base.)matrix, b = 100x1 vector\n",
    "m, n = A.size\n",
    "print(m, n)"
   ]
  },
  {
   "cell_type": "code",
   "execution_count": 15,
   "metadata": {},
   "outputs": [],
   "source": [
    "# LS solution\n",
    "xls = +b\n",
    "lapack.gels(+A, xls)\n",
    "xls = xls[:n]"
   ]
  },
  {
   "cell_type": "code",
   "execution_count": 19,
   "metadata": {},
   "outputs": [
    {
     "name": "stdout",
     "output_type": "stream",
     "text": [
      "\u001b[0;31mDocstring:\u001b[0m\n",
      "Solves least-squares and least-norm problems with full rank\n",
      "matrices.\n",
      "\n",
      "gels(A, B, trans='N', m=A.size[0], n=A.size[1], nrhs=B.size[1],\n",
      "     ldA=max(1,A.size[0]), ldB=max(1,B.size[0]), offsetA=0,\n",
      "     offsetB=0)\n",
      "\n",
      "PURPOSE\n",
      "1. If trans is 'N' and A and B are real/complex:\n",
      "- if m >= n: minimizes ||A*X - B||_F.\n",
      "- if m < n: minimizes ||X||_F subject to A*X = B.\n",
      "\n",
      "2. If trans is 'N' or 'C' and A and B are real:\n",
      "- if m >= n: minimizes ||X||_F subject to A^T*X = B.\n",
      "- if m < n: minimizes ||X||_F subject to A^T*X = B.\n",
      "\n",
      "3. If trans is 'C' and A and B are complex:\n",
      "- if m >= n: minimizes ||X||_F subject to A^H*X = B.\n",
      "- if m < n: minimizes ||X||_F subject to A^H*X = B.\n",
      "\n",
      "A is an m by n matrix.  B has nrhs columns.  On exit, B is\n",
      "replaced with the solution, and A is replaced with the details\n",
      "of its QR or LQ factorization.\n",
      "\n",
      "Note that gels does not check whether A has full rank.\n",
      "\n",
      "ARGUMENTS\n",
      "A         'd' or 'z' matrix\n",
      "\n",
      "B         'd' or 'z' matrix.  Must have the same type as A.\n",
      "\n",
      "trans     'N', 'T' or 'C' if A is real.  'N' or 'C' if A is\n",
      "          complex.\n",
      "\n",
      "m         integer.  If negative, the default value is used.\n",
      "\n",
      "n         integer.  If negative, the default value is used.\n",
      "\n",
      "nrhs      integer.  If negative, the default value is used.\n",
      "\n",
      "ldA       nonnegative integer.  ldA >= max(1,m).  If zero, the\n",
      "          default value is used.\n",
      "\n",
      "ldB       nonnegative integer.  ldB >= max(1,m,n).  If zero, the\n",
      "          default value is used.\n",
      "\n",
      "offsetA   nonnegative integer\n",
      "\n",
      "offsetB   nonnegative integer\n",
      "\u001b[0;31mType:\u001b[0m      builtin_function_or_method\n"
     ]
    }
   ],
   "source": [
    "lapack.gels?"
   ]
  },
  {
   "cell_type": "code",
   "execution_count": 23,
   "metadata": {},
   "outputs": [],
   "source": [
    "# We compute the optimal values of\n",
    "#\n",
    "#     minimize/maximize  || A*x - b ||_2^2\n",
    "#     subject to         x'*x = alpha\n",
    "#\n",
    "# via the duals.\n",
    "#\n",
    "# Lower bound:\n",
    "#\n",
    "#     maximize    -t - u*alpha\n",
    "#     subject to  [u*I, 0; 0, t] + [A, b]'*[A, b] >= 0\n",
    "#\n",
    "# Upper bound:\n",
    "#\n",
    "#     minimize    t + u*alpha\n",
    "#     subject to  [u*I, 0; 0, t] - [A, b]'*[A, b] >= 0.\n",
    "#\n",
    "# Two variables (t, u)."
   ]
  },
  {
   "cell_type": "code",
   "execution_count": 24,
   "metadata": {},
   "outputs": [
    {
     "data": {
      "image/png": "[encoded data removed]",
      "text/plain": [
       "<Figure size 432x288 with 1 Axes>"
      ]
     },
     "metadata": {},
     "output_type": "display_data"
    }
   ],
   "source": [
    "G = matrix(0.0, ((n+1)**2, 2))\n",
    "G[-1, 0] = -1.0    # coefficient of t\n",
    "G[: (n+1)**2-1 : n+2, 1] = -1.0    # coefficient of u\n",
    "h = matrix( [ [ A.T * A,  b.T * A ], [ A.T * b, b.T * b ] ] )\n",
    "c = matrix(1.0, (2,1))\n",
    "\n",
    "nopts = 40\n",
    "alpha1 = [2.0/(nopts//2-1) * alpha for alpha in range(nopts//2) ] + \\\n",
    "    [ 2.0 + (15.0 - 2.0)/(nopts//2) * alpha for alpha in\n",
    "        range(1,nopts//2+1) ]\n",
    "lbnds = [ blas.nrm2(b)**2 ]\n",
    "for alpha in alpha1[1:]:\n",
    "    c[1:] = alpha\n",
    "    lbnds += [ -blas.dot(c, solvers.sdp(c, Gs=[G], hs=[h])['x']) ]\n",
    "\n",
    "nopts = 10\n",
    "alpha2 = [ 1.0/(nopts-1) * alpha for alpha in range(nopts) ]\n",
    "ubnds = [ blas.nrm2(b)**2 ]\n",
    "for alpha in alpha2[1:]:\n",
    "    c[1:] = alpha\n",
    "    ubnds += [ blas.dot(c, solvers.sdp(c, Gs=[G], hs=[-h])['x']) ]\n",
    "\n",
    "try: import pylab\n",
    "except ImportError: pass\n",
    "else:\n",
    "    pylab.figure(1, facecolor='w')\n",
    "    pylab.plot(lbnds, alpha1, 'b-', ubnds, alpha2, 'b-')\n",
    "    kmax = max([ k for k in range(len(alpha1)) if alpha1[k] <\n",
    "        blas.nrm2(xls)**2 ])\n",
    "    pylab.plot( [ blas.nrm2(b)**2 ] + lbnds[:kmax] +\n",
    "        [ blas.nrm2(A*xls-b)**2 ], [0.0] + alpha1[:kmax] +\n",
    "        [ blas.nrm2(xls)**2 ], '-', linewidth=2)\n",
    "    pylab.plot([ blas.nrm2(b)**2, blas.nrm2(A*xls-b)**2 ],\n",
    "        [0.0, blas.nrm2(xls)**2], 'bo')\n",
    "    pylab.fill(lbnds[-1::-1] + ubnds + [ubnds[-1]],\n",
    "        alpha1[-1::-1] + alpha2+ [alpha1[-1]], facecolor = '#D0D0D0')\n",
    "    pylab.axis([0, 15, -1.0, 15])\n",
    "    pylab.xlabel('||A*x-b||_2^2')\n",
    "    pylab.ylabel('||x||_2^2')\n",
    "    pylab.grid()\n",
    "    pylab.title('Regularized least-squares (fig. 4.11)')\n",
    "    pylab.show()"
   ]
  }
 ],
 "metadata": {
  "kernelspec": {
   "display_name": "Python 3.8.12 ('venv': venv)",
   "language": "python",
   "name": "python3"
  },
  "language_info": {
   "codemirror_mode": {
    "name": "ipython",
    "version": 3
   },
   "file_extension": ".py",
   "mimetype": "text/x-python",
   "name": "python",
   "nbconvert_exporter": "python",
   "pygments_lexer": "ipython3",
   "version": "3.8.12"
  },
  "orig_nbformat": 4,
  "vscode": {
   "interpreter": {
    "hash": "48b06f68fde8e5267d559c126d28fc57c23fe5e458c55ba0accf781034469689"
   }
  }
 },
 "nbformat": 4,
 "nbformat_minor": 2
}
