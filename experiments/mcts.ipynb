{
 "cells": [
  {
   "cell_type": "code",
   "execution_count": 1,
   "metadata": {},
   "outputs": [],
   "source": [
    "import numpy as np"
   ]
  },
  {
   "cell_type": "code",
   "execution_count": 2,
   "metadata": {},
   "outputs": [
    {
     "data": {
      "text/plain": [
       "[(0, 0), (0, 1), (0, 2), (1, 0), (2, 0), (2, 1), (2, 2)]"
      ]
     },
     "execution_count": 2,
     "metadata": {},
     "output_type": "execute_result"
    }
   ],
   "source": [
    "board = np.zeros((3, 3))\n",
    "position = (1, 1)\n",
    "player = 1\n",
    "board[(1, 1)] = player\n",
    "board[(1, 2)] = 2\n",
    "X, Y = np.where(board == 0)\n",
    "list(zip(X, Y))"
   ]
  },
  {
   "cell_type": "code",
   "execution_count": 3,
   "metadata": {},
   "outputs": [
    {
     "data": {
      "text/plain": [
       "array([[0., 0., 0.],\n",
       "       [0., 1., 2.],\n",
       "       [0., 0., 0.]])"
      ]
     },
     "execution_count": 3,
     "metadata": {},
     "output_type": "execute_result"
    }
   ],
   "source": [
    "board"
   ]
  },
  {
   "cell_type": "code",
   "execution_count": 4,
   "metadata": {},
   "outputs": [
    {
     "data": {
      "text/plain": [
       "array([0., 0.])"
      ]
     },
     "execution_count": 4,
     "metadata": {},
     "output_type": "execute_result"
    }
   ],
   "source": [
    "np.diagonal(board, offset=-1)"
   ]
  },
  {
   "cell_type": "code",
   "execution_count": 5,
   "metadata": {},
   "outputs": [
    {
     "data": {
      "text/plain": [
       "[array([0., 0., 0.]), array([0., 1., 2.]), array([0., 0., 0.])]"
      ]
     },
     "execution_count": 5,
     "metadata": {},
     "output_type": "execute_result"
    }
   ],
   "source": [
    "lines = [board[i, :] for i in range(3)]\n",
    "lines"
   ]
  },
  {
   "cell_type": "code",
   "execution_count": 6,
   "metadata": {},
   "outputs": [
    {
     "data": {
      "text/plain": [
       "[array([0., 0., 0.]),\n",
       " array([0., 1., 2.]),\n",
       " array([0., 0., 0.]),\n",
       " array([0., 0., 0.]),\n",
       " array([0., 1., 0.]),\n",
       " array([0., 2., 0.])]"
      ]
     },
     "execution_count": 6,
     "metadata": {},
     "output_type": "execute_result"
    }
   ],
   "source": [
    "lines += [board[:, i] for i in range(3)]\n",
    "lines"
   ]
  },
  {
   "cell_type": "code",
   "execution_count": 7,
   "metadata": {},
   "outputs": [
    {
     "data": {
      "text/plain": [
       "[array([], dtype=float64),\n",
       " array([0.]),\n",
       " array([0., 0.]),\n",
       " array([0., 1., 0.]),\n",
       " array([0., 2.]),\n",
       " array([0.])]"
      ]
     },
     "execution_count": 7,
     "metadata": {},
     "output_type": "execute_result"
    }
   ],
   "source": [
    "[np.diagonal(board, offset=i) for i in range(-3, 3)]"
   ]
  },
  {
   "cell_type": "code",
   "execution_count": 8,
   "metadata": {},
   "outputs": [
    {
     "data": {
      "text/plain": [
       "[array([], dtype=float64),\n",
       " array([0.]),\n",
       " array([0., 2.]),\n",
       " array([0., 1., 0.]),\n",
       " array([0., 0.]),\n",
       " array([0.])]"
      ]
     },
     "execution_count": 8,
     "metadata": {},
     "output_type": "execute_result"
    }
   ],
   "source": [
    "[np.diagonal(board.T, offset=i) for i in range(-3, 3)]"
   ]
  },
  {
   "cell_type": "code",
   "execution_count": 91,
   "metadata": {},
   "outputs": [],
   "source": [
    "class TicTacToe:\n",
    "    def __init__(self, size=3):\n",
    "        self.size = size\n",
    "        self.board = np.zeros((size, size))\n",
    "        self.players = [1, 2]\n",
    "    \n",
    "    def set(self, player, position):\n",
    "        assert player in self.players, f'Invalid player {player}; only {self.players} allowed'\n",
    "        # assert position in zip(range(self.size), range(self.size)), f'Position {position} not valid (max size = {self.size})'\n",
    "        assert self.board[position] == 0, 'Position already occupied'\n",
    "        self.board[position] = player\n",
    "    \n",
    "    def valid_moves(self):\n",
    "        \"returns list of valid (= empty) board positions\"\n",
    "        X, Y = np.where(board == 0)\n",
    "        return list(zip(X, Y))\n",
    "    \n",
    "    def _get_lines(self):\n",
    "        lines  = [self.board[i, :] for i in range(self.size)]\n",
    "        lines += [self.board[:, i] for i in range(self.size)]\n",
    "        lines += [np.diagonal(self.board, offset=i) for i in range(-self.size+1, self.size)]\n",
    "        lines += [np.diagonal(np.fliplr(self.board), offset=i) for i in range(-self.size+1, self.size)]\n",
    "        return lines\n",
    "    \n",
    "    def check_winner(self):\n",
    "        lines = self._get_lines()\n",
    "        for player in self.players:\n",
    "            for line in lines:\n",
    "                counter = 0\n",
    "                for item in line:\n",
    "                    if item == player:\n",
    "                        counter += 1\n",
    "                    else:\n",
    "                        counter = 0\n",
    "                    if counter == 3:\n",
    "                        print(f\"player {player} has won\")\n",
    "                        return player\n",
    "    \n",
    "    def set_state(self, board):\n",
    "        self.board = board\n",
    "    \n",
    "    def __hash__(self):\n",
    "        #return hash(self.board)\n",
    "        #return tuple(self.board.flatten().astype(int))\n",
    "        return hash(tuple(self.board.flatten().astype(int)))\n",
    "    \n",
    "    @staticmethod\n",
    "    def from_state(board):\n",
    "        assert type(board) == np.ndarray, \"'board' must be numpy.ndarray\"\n",
    "        n, _ = board.shape\n",
    "        game = TicTacToe(n)\n",
    "        game.set_state(board)\n",
    "        return game\n",
    "                \n",
    "    def show(self):\n",
    "        print(self.board)\n"
   ]
  },
  {
   "cell_type": "code",
   "execution_count": 92,
   "metadata": {},
   "outputs": [
    {
     "data": {
      "text/plain": [
       "-4789650463397058604"
      ]
     },
     "execution_count": 92,
     "metadata": {},
     "output_type": "execute_result"
    }
   ],
   "source": [
    "game = TicTacToe(size=3)\n",
    "hash(game)"
   ]
  },
  {
   "cell_type": "code",
   "execution_count": 70,
   "metadata": {},
   "outputs": [],
   "source": [
    "class MCTS:\n",
    "    def __init__(self, game, T=1):\n",
    "        \"T = max 'think' time\"\n",
    "        self.game = game\n",
    "    \n",
    "    def select(self, node) -> Node:\n",
    "        pass\n",
    "    \n",
    "    def expand(self, node) -> None:\n",
    "        pass\n",
    "\n",
    "    def rollout(self, node) -> float:\n",
    "        pass\n",
    "\n",
    "    def backprop(self, value) -> None:\n",
    "        pass"
   ]
  },
  {
   "cell_type": "code",
   "execution_count": 71,
   "metadata": {},
   "outputs": [],
   "source": [
    "mcts = MCTS(game)"
   ]
  }
 ],
 "metadata": {
  "kernelspec": {
   "display_name": "Python 3.8.12 ('venv': venv)",
   "language": "python",
   "name": "python3"
  },
  "language_info": {
   "codemirror_mode": {
    "name": "ipython",
    "version": 3
   },
   "file_extension": ".py",
   "mimetype": "text/x-python",
   "name": "python",
   "nbconvert_exporter": "python",
   "pygments_lexer": "ipython3",
   "version": "3.8.12"
  },
  "orig_nbformat": 4,
  "vscode": {
   "interpreter": {
    "hash": "48b06f68fde8e5267d559c126d28fc57c23fe5e458c55ba0accf781034469689"
   }
  }
 },
 "nbformat": 4,
 "nbformat_minor": 2
}
