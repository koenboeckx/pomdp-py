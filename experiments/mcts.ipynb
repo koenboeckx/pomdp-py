{
 "cells": [
  {
   "cell_type": "code",
   "execution_count": 1,
   "metadata": {},
   "outputs": [],
   "source": [
    "import time, random\n",
    "\n",
    "import numpy as np"
   ]
  },
  {
   "cell_type": "code",
   "execution_count": 12,
   "metadata": {},
   "outputs": [],
   "source": [
    "class Game:\n",
    "    # skeleton structure for game (in this case single palyer)\n",
    "    def __init__(self, N) -> None:\n",
    "        # goal is to find most efficient route through A (always moving rightward) to reach highest value in last column\n",
    "        # position is terminal if last col is reached\n",
    "        self.N = N\n",
    "        self.A = np.zeros((N, N))\n",
    "        self.A[:, -1] = np.random.randint(0, high=N, size=N)\n",
    "    \n",
    "    def move(self, position, step):\n",
    "        \"step in [-1, 0, 1]\"\n",
    "        assert step in self.all_moves(), f'step {step} not allowed'\n",
    "        row, col  = position\n",
    "        new_row, new_col = min(self.N, max(0, row+step)), col+1\n",
    "        terminal = new_col == self.N - 1\n",
    "        return (new_row, new_col), terminal\n",
    "    \n",
    "    def all_moves(self):\n",
    "        return [-1, 0, 1]\n",
    "    \n",
    "    def value(self, position):\n",
    "        row, col  = position\n",
    "        assert row in range(self.N), f'row {row} not allowed'\n",
    "        assert col in range(self.N), f'column {col} not allowed'\n",
    "        return self.A[row, col]        "
   ]
  },
  {
   "cell_type": "code",
   "execution_count": 19,
   "metadata": {},
   "outputs": [
    {
     "ename": "TypeError",
     "evalue": "rollout() missing 1 required positional argument: 'position'",
     "output_type": "error",
     "traceback": [
      "\u001b[0;31m---------------------------------------------------------------------------\u001b[0m",
      "\u001b[0;31mTypeError\u001b[0m                                 Traceback (most recent call last)",
      "\u001b[1;32m/home/koen/Programming/pomdp-py/experiments/mcts.ipynb Cell 3\u001b[0m in \u001b[0;36m<cell line: 57>\u001b[0;34m()\u001b[0m\n\u001b[1;32m     <a href='vscode-notebook-cell:/home/koen/Programming/pomdp-py/experiments/mcts.ipynb#W2sZmlsZQ%3D%3D?line=54'>55</a>\u001b[0m game \u001b[39m=\u001b[39m Game(\u001b[39m10\u001b[39m)\n\u001b[1;32m     <a href='vscode-notebook-cell:/home/koen/Programming/pomdp-py/experiments/mcts.ipynb#W2sZmlsZQ%3D%3D?line=55'>56</a>\u001b[0m mcts \u001b[39m=\u001b[39m MCTS(game)\n\u001b[0;32m---> <a href='vscode-notebook-cell:/home/koen/Programming/pomdp-py/experiments/mcts.ipynb#W2sZmlsZQ%3D%3D?line=56'>57</a>\u001b[0m move \u001b[39m=\u001b[39m mcts\u001b[39m.\u001b[39;49mrun((\u001b[39m0\u001b[39;49m, \u001b[39m0\u001b[39;49m))\n\u001b[1;32m     <a href='vscode-notebook-cell:/home/koen/Programming/pomdp-py/experiments/mcts.ipynb#W2sZmlsZQ%3D%3D?line=57'>58</a>\u001b[0m \u001b[39mprint\u001b[39m(move)\n",
      "\u001b[1;32m/home/koen/Programming/pomdp-py/experiments/mcts.ipynb Cell 3\u001b[0m in \u001b[0;36mMCTS.run\u001b[0;34m(self, root)\u001b[0m\n\u001b[1;32m     <a href='vscode-notebook-cell:/home/koen/Programming/pomdp-py/experiments/mcts.ipynb#W2sZmlsZQ%3D%3D?line=15'>16</a>\u001b[0m     children \u001b[39m=\u001b[39m \u001b[39mself\u001b[39m\u001b[39m.\u001b[39mexpand(leaf_node)\n\u001b[1;32m     <a href='vscode-notebook-cell:/home/koen/Programming/pomdp-py/experiments/mcts.ipynb#W2sZmlsZQ%3D%3D?line=16'>17</a>\u001b[0m     next_child \u001b[39m=\u001b[39m children[\u001b[39m0\u001b[39m]\n\u001b[0;32m---> <a href='vscode-notebook-cell:/home/koen/Programming/pomdp-py/experiments/mcts.ipynb#W2sZmlsZQ%3D%3D?line=17'>18</a>\u001b[0m     value \u001b[39m=\u001b[39m \u001b[39mself\u001b[39m\u001b[39m.\u001b[39mrollout()\n\u001b[1;32m     <a href='vscode-notebook-cell:/home/koen/Programming/pomdp-py/experiments/mcts.ipynb#W2sZmlsZQ%3D%3D?line=18'>19</a>\u001b[0m     \u001b[39mself\u001b[39m\u001b[39m.\u001b[39mbackprop(value, trace)\n\u001b[1;32m     <a href='vscode-notebook-cell:/home/koen/Programming/pomdp-py/experiments/mcts.ipynb#W2sZmlsZQ%3D%3D?line=19'>20</a>\u001b[0m root_vals \u001b[39m=\u001b[39m [(\u001b[39mself\u001b[39m\u001b[39m.\u001b[39mvalues[child]\u001b[39m/\u001b[39m\u001b[39mself\u001b[39m\u001b[39m.\u001b[39mvisits[child], move) \u001b[39mfor\u001b[39;00m child, move \u001b[39min\u001b[39;00m \u001b[39mself\u001b[39m\u001b[39m.\u001b[39mtree[root]]\n",
      "\u001b[0;31mTypeError\u001b[0m: rollout() missing 1 required positional argument: 'position'"
     ]
    }
   ],
   "source": [
    "class MCTS:\n",
    "    def __init__(self, game, T=1, c=2):\n",
    "        \"T = max 'think' time\"\n",
    "        self.game = game\n",
    "        self.T = T\n",
    "        self.c = c\n",
    "\n",
    "        self.visits = {}\n",
    "        self.values = {}\n",
    "    \n",
    "    def run(self, root):\n",
    "        self.tree = {}\n",
    "        start_time = time.time()\n",
    "        while time.time() - start_time < self.T:\n",
    "            leaf_node, trace = self.select(root)\n",
    "            children = self.expand(leaf_node)\n",
    "            next_child, _ = children[0] # always start with first child from new children\n",
    "            value = self.rollout(next_child)\n",
    "            self.backprop(value, trace)\n",
    "        root_vals = [(self.values[child]/self.visits[child], move) for child, move in self.tree[root]]\n",
    "        _, move = sorted(root_vals)[-1] # pick move that leads to child with highest value/visit\n",
    "    \n",
    "    def select(self, node):\n",
    "        trace = []\n",
    "        while node in self.tree: # if not in tree -> expand (i.e. is leaf node)\n",
    "            trace.append(node)\n",
    "            N = self.visits[node]\n",
    "            uct = [(self.c * np.sqrt(np.log(N)/self.visits[child])) for child, _ in self.tree[node]]\n",
    "            _, node = max(uct)\n",
    "        return node, trace\n",
    "\n",
    "    def expand(self, node) -> None:\n",
    "        children = [(self.game.move(node, move)[0], move) for move in self.game.all_moves()]\n",
    "        self.tree[node] = children\n",
    "        for child, _ in children:\n",
    "            self.visits[child], self.values[child] = 0, 0\n",
    "        return children\n",
    "\n",
    "    def _rollout_policy(self, position):\n",
    "        return random.choice(self.game.all_moves())\n",
    "\n",
    "    def rollout(self, position) -> float:\n",
    "        terminal = False\n",
    "        while not terminal:\n",
    "            move = self._rollout_policy(position)\n",
    "            position, terminal = self.game.move(position, move)\n",
    "        return self.game.value(position)\n",
    "\n",
    "    def backprop(self, value, trace) -> None:\n",
    "        for node in trace:\n",
    "            self.visits[node] += 1\n",
    "            self.values[node] += value\n",
    "\n",
    "\n",
    "game = Game(10)\n",
    "mcts = MCTS(game)\n",
    "move = mcts.run((0, 0))\n",
    "print(move)"
   ]
  },
  {
   "cell_type": "code",
   "execution_count": 84,
   "metadata": {},
   "outputs": [
    {
     "ename": "TypeError",
     "evalue": "can only concatenate tuple (not \"int\") to tuple",
     "output_type": "error",
     "traceback": [
      "\u001b[0;31m---------------------------------------------------------------------------\u001b[0m",
      "\u001b[0;31mTypeError\u001b[0m                                 Traceback (most recent call last)",
      "\u001b[0;32m<ipython-input-84-36bf1af8aa17>\u001b[0m in \u001b[0;36m<module>\u001b[0;34m\u001b[0m\n\u001b[1;32m      1\u001b[0m \u001b[0mgame\u001b[0m \u001b[0;34m=\u001b[0m \u001b[0mGame\u001b[0m\u001b[0;34m(\u001b[0m\u001b[0;36m10\u001b[0m\u001b[0;34m)\u001b[0m\u001b[0;34m\u001b[0m\u001b[0;34m\u001b[0m\u001b[0m\n\u001b[1;32m      2\u001b[0m \u001b[0mmcts\u001b[0m \u001b[0;34m=\u001b[0m \u001b[0mMCTS\u001b[0m\u001b[0;34m(\u001b[0m\u001b[0mgame\u001b[0m\u001b[0;34m)\u001b[0m\u001b[0;34m\u001b[0m\u001b[0;34m\u001b[0m\u001b[0m\n\u001b[0;32m----> 3\u001b[0;31m \u001b[0mmcts\u001b[0m\u001b[0;34m.\u001b[0m\u001b[0mrun\u001b[0m\u001b[0;34m(\u001b[0m\u001b[0;34m(\u001b[0m\u001b[0;36m0\u001b[0m\u001b[0;34m,\u001b[0m \u001b[0;36m0\u001b[0m\u001b[0;34m)\u001b[0m\u001b[0;34m)\u001b[0m\u001b[0;34m\u001b[0m\u001b[0;34m\u001b[0m\u001b[0m\n\u001b[0m",
      "\u001b[0;32m<ipython-input-83-2caa37e6c8d7>\u001b[0m in \u001b[0;36mrun\u001b[0;34m(self, root)\u001b[0m\n\u001b[1;32m     16\u001b[0m             \u001b[0mleaf_node\u001b[0m\u001b[0;34m,\u001b[0m \u001b[0mtrace\u001b[0m \u001b[0;34m=\u001b[0m \u001b[0mself\u001b[0m\u001b[0;34m.\u001b[0m\u001b[0mselect\u001b[0m\u001b[0;34m(\u001b[0m\u001b[0mroot\u001b[0m\u001b[0;34m)\u001b[0m\u001b[0;34m\u001b[0m\u001b[0;34m\u001b[0m\u001b[0m\n\u001b[1;32m     17\u001b[0m             \u001b[0mchildren\u001b[0m \u001b[0;34m=\u001b[0m \u001b[0mself\u001b[0m\u001b[0;34m.\u001b[0m\u001b[0mexpand\u001b[0m\u001b[0;34m(\u001b[0m\u001b[0mleaf_node\u001b[0m\u001b[0;34m)\u001b[0m\u001b[0;34m\u001b[0m\u001b[0;34m\u001b[0m\u001b[0m\n\u001b[0;32m---> 18\u001b[0;31m             \u001b[0mvalue\u001b[0m \u001b[0;34m=\u001b[0m \u001b[0mself\u001b[0m\u001b[0;34m.\u001b[0m\u001b[0mrollout\u001b[0m\u001b[0;34m(\u001b[0m\u001b[0mchildren\u001b[0m\u001b[0;34m[\u001b[0m\u001b[0;36m0\u001b[0m\u001b[0;34m]\u001b[0m\u001b[0;34m)\u001b[0m\u001b[0;34m\u001b[0m\u001b[0;34m\u001b[0m\u001b[0m\n\u001b[0m\u001b[1;32m     19\u001b[0m             \u001b[0mself\u001b[0m\u001b[0;34m.\u001b[0m\u001b[0mbackprop\u001b[0m\u001b[0;34m(\u001b[0m\u001b[0mvalue\u001b[0m\u001b[0;34m,\u001b[0m \u001b[0mtrace\u001b[0m\u001b[0;34m)\u001b[0m\u001b[0;34m\u001b[0m\u001b[0;34m\u001b[0m\u001b[0m\n\u001b[1;32m     20\u001b[0m \u001b[0;34m\u001b[0m\u001b[0m\n",
      "\u001b[0;32m<ipython-input-83-2caa37e6c8d7>\u001b[0m in \u001b[0;36mrollout\u001b[0;34m(self, position)\u001b[0m\n\u001b[1;32m     41\u001b[0m         \u001b[0;32mwhile\u001b[0m \u001b[0;32mnot\u001b[0m \u001b[0mterminal\u001b[0m\u001b[0;34m:\u001b[0m\u001b[0;34m\u001b[0m\u001b[0;34m\u001b[0m\u001b[0m\n\u001b[1;32m     42\u001b[0m             \u001b[0mmove\u001b[0m \u001b[0;34m=\u001b[0m \u001b[0mself\u001b[0m\u001b[0;34m.\u001b[0m\u001b[0m_rollout_policy\u001b[0m\u001b[0;34m(\u001b[0m\u001b[0mposition\u001b[0m\u001b[0;34m)\u001b[0m\u001b[0;34m\u001b[0m\u001b[0;34m\u001b[0m\u001b[0m\n\u001b[0;32m---> 43\u001b[0;31m             \u001b[0mposition\u001b[0m\u001b[0;34m,\u001b[0m \u001b[0mterminal\u001b[0m \u001b[0;34m=\u001b[0m \u001b[0mself\u001b[0m\u001b[0;34m.\u001b[0m\u001b[0mgame\u001b[0m\u001b[0;34m.\u001b[0m\u001b[0mmove\u001b[0m\u001b[0;34m(\u001b[0m\u001b[0mposition\u001b[0m\u001b[0;34m,\u001b[0m \u001b[0mmove\u001b[0m\u001b[0;34m)\u001b[0m\u001b[0;34m\u001b[0m\u001b[0;34m\u001b[0m\u001b[0m\n\u001b[0m\u001b[1;32m     44\u001b[0m         \u001b[0;32mreturn\u001b[0m \u001b[0mself\u001b[0m\u001b[0;34m.\u001b[0m\u001b[0mgame\u001b[0m\u001b[0;34m.\u001b[0m\u001b[0mvalue\u001b[0m\u001b[0;34m(\u001b[0m\u001b[0mposition\u001b[0m\u001b[0;34m)\u001b[0m\u001b[0;34m\u001b[0m\u001b[0;34m\u001b[0m\u001b[0m\n\u001b[1;32m     45\u001b[0m \u001b[0;34m\u001b[0m\u001b[0m\n",
      "\u001b[0;32m<ipython-input-78-77f7eec3f5ac>\u001b[0m in \u001b[0;36mmove\u001b[0;34m(self, position, step)\u001b[0m\n\u001b[1;32m     13\u001b[0m         \u001b[0mrow\u001b[0m\u001b[0;34m,\u001b[0m \u001b[0mcol\u001b[0m  \u001b[0;34m=\u001b[0m \u001b[0mposition\u001b[0m\u001b[0;34m\u001b[0m\u001b[0;34m\u001b[0m\u001b[0m\n\u001b[1;32m     14\u001b[0m         \u001b[0mterminal\u001b[0m \u001b[0;34m=\u001b[0m \u001b[0mcol\u001b[0m \u001b[0;34m==\u001b[0m \u001b[0mself\u001b[0m\u001b[0;34m.\u001b[0m\u001b[0mN\u001b[0m\u001b[0;34m\u001b[0m\u001b[0;34m\u001b[0m\u001b[0m\n\u001b[0;32m---> 15\u001b[0;31m         \u001b[0;32mreturn\u001b[0m \u001b[0;34m(\u001b[0m\u001b[0mmin\u001b[0m\u001b[0;34m(\u001b[0m\u001b[0mself\u001b[0m\u001b[0;34m.\u001b[0m\u001b[0mN\u001b[0m\u001b[0;34m,\u001b[0m \u001b[0mmax\u001b[0m\u001b[0;34m(\u001b[0m\u001b[0;36m0\u001b[0m\u001b[0;34m,\u001b[0m \u001b[0mrow\u001b[0m\u001b[0;34m+\u001b[0m\u001b[0mstep\u001b[0m\u001b[0;34m)\u001b[0m\u001b[0;34m)\u001b[0m\u001b[0;34m,\u001b[0m \u001b[0mcol\u001b[0m\u001b[0;34m+\u001b[0m\u001b[0;36m1\u001b[0m\u001b[0;34m)\u001b[0m\u001b[0;34m,\u001b[0m \u001b[0mterminal\u001b[0m\u001b[0;34m\u001b[0m\u001b[0;34m\u001b[0m\u001b[0m\n\u001b[0m\u001b[1;32m     16\u001b[0m \u001b[0;34m\u001b[0m\u001b[0m\n\u001b[1;32m     17\u001b[0m     \u001b[0;32mdef\u001b[0m \u001b[0mall_moves\u001b[0m\u001b[0;34m(\u001b[0m\u001b[0mself\u001b[0m\u001b[0;34m)\u001b[0m\u001b[0;34m:\u001b[0m\u001b[0;34m\u001b[0m\u001b[0;34m\u001b[0m\u001b[0m\n",
      "\u001b[0;31mTypeError\u001b[0m: can only concatenate tuple (not \"int\") to tuple"
     ]
    }
   ],
   "source": [
    "game = Game(10)\n",
    "mcts = MCTS(game)\n",
    "mcts.run((0, 0))"
   ]
  }
 ],
 "metadata": {
  "kernelspec": {
   "display_name": "Python 3.8.12 ('venv': venv)",
   "language": "python",
   "name": "python3"
  },
  "language_info": {
   "codemirror_mode": {
    "name": "ipython",
    "version": 3
   },
   "file_extension": ".py",
   "mimetype": "text/x-python",
   "name": "python",
   "nbconvert_exporter": "python",
   "pygments_lexer": "ipython3",
   "version": "3.8.12"
  },
  "orig_nbformat": 4,
  "vscode": {
   "interpreter": {
    "hash": "48b06f68fde8e5267d559c126d28fc57c23fe5e458c55ba0accf781034469689"
   }
  }
 },
 "nbformat": 4,
 "nbformat_minor": 2
}
